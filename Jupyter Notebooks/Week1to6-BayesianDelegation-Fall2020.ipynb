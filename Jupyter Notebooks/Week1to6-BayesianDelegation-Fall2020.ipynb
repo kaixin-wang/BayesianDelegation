{
 "cells": [
  {
   "cell_type": "markdown",
   "metadata": {},
   "source": [
    "# Bayesian Delegation Algorithm\n",
    "\n",
    "Based on paper *Too many cooks: Bayesian inference for coordinating multi-agent collaboration*\n",
    "\n",
    "- Author: Kaixin Wang\n",
    "- Date: Fall 2020 Week 6"
   ]
  },
  {
   "cell_type": "markdown",
   "metadata": {},
   "source": [
    "Plan for Week 6:\n",
    "\n",
    "1. Modify the `merge()` function to a class of functions\n",
    "2. unittest the function\n",
    "3. continue setting up the environment"
   ]
  },
  {
   "cell_type": "markdown",
   "metadata": {},
   "source": [
    "**Library Imports and Graphical Setups**"
   ]
  },
  {
   "cell_type": "code",
   "execution_count": 1,
   "metadata": {},
   "outputs": [],
   "source": [
    "import numpy \n",
    "import matplotlib.pyplot as plt\n",
    "import seaborn as sns\n",
    "import pandas as pd"
   ]
  },
  {
   "cell_type": "markdown",
   "metadata": {},
   "source": [
    "## Part I: Enviroment Setups"
   ]
  },
  {
   "cell_type": "markdown",
   "metadata": {},
   "source": [
    "### 1. Environment Grid"
   ]
  },
  {
   "cell_type": "code",
   "execution_count": 2,
   "metadata": {},
   "outputs": [],
   "source": [
    "def createEnvironment(objects, xmax = 7, ymax = 7):#, goal = (0,3)):\n",
    "    xrange = range(0,xmax); yrange = range(0,ymax)\n",
    "    coordinates = [(x,y) for x in xrange for y in yrange]\n",
    "    possibleStatus = {\"Agent\":[], \"Plate\":[], \"Counter\":[], \"Delivery\":[], \"Knife\":None, \n",
    "                      \"Tomato\":[\"chopped\", \"unchopped\"], \"Lettuce\":[\"chopped\", \"unchopped\"]}\n",
    "    S = {s:{\"type\":None, \"status\":[]} for s in coordinates}\n",
    "    for key, obj in objects.items():\n",
    "        for pair in obj:\n",
    "            S[pair][\"type\"] = key\n",
    "            if key in [\"Tomato\", \"Lettuce\"]:\n",
    "                S[pair][\"status\"] = \"unchopped\"\n",
    "    return S"
   ]
  },
  {
   "cell_type": "code",
   "execution_count": 3,
   "metadata": {
    "scrolled": true
   },
   "outputs": [
    {
     "data": {
      "text/plain": [
       "{(0, 0): {'type': 'Counter', 'status': []},\n",
       " (0, 1): {'type': 'Counter', 'status': []},\n",
       " (0, 2): {'type': 'Counter', 'status': []},\n",
       " (0, 3): {'type': 'Goal', 'status': []},\n",
       " (0, 4): {'type': 'Knife', 'status': []},\n",
       " (0, 5): {'type': 'Knife', 'status': []},\n",
       " (0, 6): {'type': 'Counter', 'status': []},\n",
       " (1, 0): {'type': 'Counter', 'status': []},\n",
       " (1, 1): {'type': None, 'status': []},\n",
       " (1, 2): {'type': None, 'status': []},\n",
       " (1, 3): {'type': None, 'status': []},\n",
       " (1, 4): {'type': None, 'status': []},\n",
       " (1, 5): {'type': None, 'status': []},\n",
       " (1, 6): {'type': 'Counter', 'status': []},\n",
       " (2, 0): {'type': 'Counter', 'status': []},\n",
       " (2, 1): {'type': None, 'status': []},\n",
       " (2, 2): {'type': None, 'status': []},\n",
       " (2, 3): {'type': None, 'status': []},\n",
       " (2, 4): {'type': None, 'status': []},\n",
       " (2, 5): {'type': 'Agent', 'status': []},\n",
       " (2, 6): {'type': 'Counter', 'status': []},\n",
       " (3, 0): {'type': 'Counter', 'status': []},\n",
       " (3, 1): {'type': None, 'status': []},\n",
       " (3, 2): {'type': None, 'status': []},\n",
       " (3, 3): {'type': None, 'status': []},\n",
       " (3, 4): {'type': None, 'status': []},\n",
       " (3, 5): {'type': None, 'status': []},\n",
       " (3, 6): {'type': 'Counter', 'status': []},\n",
       " (4, 0): {'type': 'Counter', 'status': []},\n",
       " (4, 1): {'type': None, 'status': []},\n",
       " (4, 2): {'type': None, 'status': []},\n",
       " (4, 3): {'type': None, 'status': []},\n",
       " (4, 4): {'type': None, 'status': []},\n",
       " (4, 5): {'type': 'Agent', 'status': []},\n",
       " (4, 6): {'type': 'Counter', 'status': []},\n",
       " (5, 0): {'type': 'Plate', 'status': []},\n",
       " (5, 1): {'type': None, 'status': []},\n",
       " (5, 2): {'type': None, 'status': []},\n",
       " (5, 3): {'type': None, 'status': []},\n",
       " (5, 4): {'type': None, 'status': []},\n",
       " (5, 5): {'type': None, 'status': []},\n",
       " (5, 6): {'type': 'Tomato', 'status': 'unchopped'},\n",
       " (6, 0): {'type': 'Counter', 'status': []},\n",
       " (6, 1): {'type': 'Plate', 'status': []},\n",
       " (6, 2): {'type': 'Counter', 'status': []},\n",
       " (6, 3): {'type': 'Counter', 'status': []},\n",
       " (6, 4): {'type': 'Counter', 'status': []},\n",
       " (6, 5): {'type': 'Lettuce', 'status': 'unchopped'},\n",
       " (6, 6): {'type': 'Counter', 'status': []}}"
      ]
     },
     "execution_count": 3,
     "metadata": {},
     "output_type": "execute_result"
    }
   ],
   "source": [
    "objects = {\"Counter\":[(0,0), (0,1), (0,2), (0,4), (0,5), (0,6),\n",
    "                      (1,6), (2,6), (3,6), (4,6), (5,6), (6,6),\n",
    "                      (6,5), (6,4), (6,3), (6,2), (6,1), (6,0),\n",
    "                      (5,0), (4,0), (3,0), (2,0), (1,0)],\n",
    "           \"Goal\":[(0,3)], \"Knife\":[(0,4), (0,5)], \"Plate\":[(5,0), (6,1)],\n",
    "           \"Lettuce\":[(6,5)], \"Tomato\":[(5,6)], \"Agent\":[(2,5), (4,5)],}\n",
    "S = createEnvironment(objects)\n",
    "S"
   ]
  },
  {
   "cell_type": "markdown",
   "metadata": {},
   "source": [
    "### 2. State Space"
   ]
  },
  {
   "cell_type": "code",
   "execution_count": 4,
   "metadata": {},
   "outputs": [
    {
     "data": {
      "text/plain": [
       "{'Agent': {'1': {'Location': (0, 0), 'Status': None},\n",
       "  '2': {'Location': (1, 2), 'Status': None}},\n",
       " 'Plate': [],\n",
       " 'Counter': [],\n",
       " 'Delivery': [],\n",
       " 'Knife': None,\n",
       " 'Tomato': ['chopped', 'unchopped'],\n",
       " 'Lettuce': ['chopped', 'unchopped']}"
      ]
     },
     "execution_count": 4,
     "metadata": {},
     "output_type": "execute_result"
    }
   ],
   "source": [
    "states = {\"Agent\":{'1':{'Location':(0,0), 'Status': None}, '2':{'Location':(1,2), 'Status':None}}, \n",
    "          \"Plate\":[], \"Counter\":[], \"Delivery\":[], \"Knife\":None, \n",
    "          \"Tomato\":[\"chopped\", \"unchopped\"], \"Lettuce\":[\"chopped\", \"unchopped\"]}\n",
    "states"
   ]
  },
  {
   "cell_type": "markdown",
   "metadata": {},
   "source": [
    "### 3. Action Space"
   ]
  },
  {
   "cell_type": "markdown",
   "metadata": {},
   "source": [
    " - four cardinal direction"
   ]
  },
  {
   "cell_type": "markdown",
   "metadata": {},
   "source": [
    "### 4. Transition Function"
   ]
  },
  {
   "cell_type": "markdown",
   "metadata": {},
   "source": [
    "- movement rules (no collision - with each other, counters, etc.)\n",
    "- Food interaction (Merge(X,Y) for food + knife = unchopped -> chopped)\n",
    "- Pick up object (Merge(X,Y) for agent + moveable object = hold)\n",
    "- Combine foods (Merge(X,y) for food1, food2 = food1+food2\n",
    "- Plate food (Merge(X,Y) for food +plate = plated food\n",
    "- Deliver food (Merge(X,Y) for objective food + star location = deliver"
   ]
  },
  {
   "cell_type": "code",
   "execution_count": 5,
   "metadata": {},
   "outputs": [],
   "source": [
    "blocks = []\n",
    "for xy in objects.values():\n",
    "    for pair in xy:\n",
    "        if pair not in blocks:\n",
    "            blocks.append(pair)"
   ]
  },
  {
   "cell_type": "code",
   "execution_count": 6,
   "metadata": {},
   "outputs": [],
   "source": [
    "def transitionFull(s, move, minX, minY, maxX, maxY, blockList):\n",
    "    x, y=s\n",
    "    dx, dy=move\n",
    "    def boundary(x, minX, maxX):\n",
    "        return max(minX, min(x, maxX))\n",
    "    sPrimeConsideringBoundary=(boundary(x+dx, minX, maxX), boundary(y+dy, minY, maxY))\n",
    "    def blocking(sPrime, blockList):\n",
    "        if sPrime in blockList:\n",
    "            return s\n",
    "        else:\n",
    "            return sPrime\n",
    "    sPrime=blocking(sPrimeConsideringBoundary, blockList)\n",
    "    return sPrime\n",
    "\n",
    "def createTransitionTable(minX, minY, maxX, maxY, blockList, possibleAction, transitionProbability):\n",
    "    possibleState=[(i,j) for i in range(minX, maxX+1) for j in range(minY, maxY+1)]\n",
    "    for block in blockList:\n",
    "        possibleState.remove(block)\n",
    "        \n",
    "    moves={'forward':{(1,0):(1,0),(0,-1):(0,-1),(-1,0):(-1,0),(0,1):(0,1)},\\\n",
    "           'left':{(1,0):(0,-1),(0,-1):(-1,0),(-1,0):(0,1),(0,1):(1,0)},\\\n",
    "           'right':{(1,0):(0,1),(0,-1):(1,0),(-1,0):(0,-1),(0,1):(-1,0)},\\\n",
    "           'back':{(1,0):(-1,0),(0,-1):(0,1),(-1,0):(1,0),(0,1):(0,-1)}}\n",
    "    \n",
    "    def transition(s, move):\n",
    "        return transitionFull(s, move, minX, minY, maxX, maxY, blockList)\n",
    "    \n",
    "    def transitionFunction(s, action, sPrime, transitionProbability, moves):\n",
    "        moveDictionary={moves[move][action]:transitionProbability[move] for move in transitionProbability.keys()}\n",
    "        sPrimeProbability=sum([p for move, p in moveDictionary.items() if transition(s, move)==sPrime])\n",
    "        return sPrimeProbability\n",
    "    \n",
    "    emptyTransitionTable={s:{action:{transition(s, moves[move][action]):transitionProbability[move] \n",
    "                                     for move in transitionProbability.keys()} \n",
    "                             for action in possibleAction} \n",
    "                          for s in possibleState}\n",
    "    \n",
    "    transitionTable={s:{action:{sPrime:transitionFunction(s, action, sPrime, transitionProbability, moves) \n",
    "                                for sPrime in emptyTransitionTable[s][action].keys()} \n",
    "                        for action in possibleAction} \n",
    "                     for s in possibleState}\n",
    "    return transitionTable"
   ]
  },
  {
   "cell_type": "code",
   "execution_count": 7,
   "metadata": {},
   "outputs": [],
   "source": [
    "p=1\n",
    "possibleAction=[(0,1), (0,-1), (1,0), (-1,0)]\n",
    "# probablistic transition\n",
    "# transitionProbability={'forward':p/4, 'left':p/4, 'right':p/4, 'back':p/4}\n",
    "# deterministic transition\n",
    "transitionProbability={'forward':p, 'left':(1-p)/2, 'right':(1-p)/2, 'back':0}\n",
    "transitionProbability={move: p for move, p in transitionProbability.items() if transitionProbability[move]!=0}\n",
    "transitionTable=createTransitionTable(0, 0, 6, 6, blocks, possibleAction, transitionProbability)"
   ]
  },
  {
   "cell_type": "code",
   "execution_count": 8,
   "metadata": {
    "scrolled": true
   },
   "outputs": [
    {
     "data": {
      "text/plain": [
       "{(1, 1): {(0, 1): {(1, 2): 1},\n",
       "  (0, -1): {(1, 1): 1},\n",
       "  (1, 0): {(2, 1): 1},\n",
       "  (-1, 0): {(1, 1): 1}},\n",
       " (1, 2): {(0, 1): {(1, 3): 1},\n",
       "  (0, -1): {(1, 1): 1},\n",
       "  (1, 0): {(2, 2): 1},\n",
       "  (-1, 0): {(1, 2): 1}},\n",
       " (1, 3): {(0, 1): {(1, 4): 1},\n",
       "  (0, -1): {(1, 2): 1},\n",
       "  (1, 0): {(2, 3): 1},\n",
       "  (-1, 0): {(1, 3): 1}},\n",
       " (1, 4): {(0, 1): {(1, 5): 1},\n",
       "  (0, -1): {(1, 3): 1},\n",
       "  (1, 0): {(2, 4): 1},\n",
       "  (-1, 0): {(1, 4): 1}},\n",
       " (1, 5): {(0, 1): {(1, 5): 1},\n",
       "  (0, -1): {(1, 4): 1},\n",
       "  (1, 0): {(1, 5): 1},\n",
       "  (-1, 0): {(1, 5): 1}},\n",
       " (2, 1): {(0, 1): {(2, 2): 1},\n",
       "  (0, -1): {(2, 1): 1},\n",
       "  (1, 0): {(3, 1): 1},\n",
       "  (-1, 0): {(1, 1): 1}},\n",
       " (2, 2): {(0, 1): {(2, 3): 1},\n",
       "  (0, -1): {(2, 1): 1},\n",
       "  (1, 0): {(3, 2): 1},\n",
       "  (-1, 0): {(1, 2): 1}},\n",
       " (2, 3): {(0, 1): {(2, 4): 1},\n",
       "  (0, -1): {(2, 2): 1},\n",
       "  (1, 0): {(3, 3): 1},\n",
       "  (-1, 0): {(1, 3): 1}},\n",
       " (2, 4): {(0, 1): {(2, 4): 1},\n",
       "  (0, -1): {(2, 3): 1},\n",
       "  (1, 0): {(3, 4): 1},\n",
       "  (-1, 0): {(1, 4): 1}},\n",
       " (3, 1): {(0, 1): {(3, 2): 1},\n",
       "  (0, -1): {(3, 1): 1},\n",
       "  (1, 0): {(4, 1): 1},\n",
       "  (-1, 0): {(2, 1): 1}},\n",
       " (3, 2): {(0, 1): {(3, 3): 1},\n",
       "  (0, -1): {(3, 1): 1},\n",
       "  (1, 0): {(4, 2): 1},\n",
       "  (-1, 0): {(2, 2): 1}},\n",
       " (3, 3): {(0, 1): {(3, 4): 1},\n",
       "  (0, -1): {(3, 2): 1},\n",
       "  (1, 0): {(4, 3): 1},\n",
       "  (-1, 0): {(2, 3): 1}},\n",
       " (3, 4): {(0, 1): {(3, 5): 1},\n",
       "  (0, -1): {(3, 3): 1},\n",
       "  (1, 0): {(4, 4): 1},\n",
       "  (-1, 0): {(2, 4): 1}},\n",
       " (3, 5): {(0, 1): {(3, 5): 1},\n",
       "  (0, -1): {(3, 4): 1},\n",
       "  (1, 0): {(3, 5): 1},\n",
       "  (-1, 0): {(3, 5): 1}},\n",
       " (4, 1): {(0, 1): {(4, 2): 1},\n",
       "  (0, -1): {(4, 1): 1},\n",
       "  (1, 0): {(5, 1): 1},\n",
       "  (-1, 0): {(3, 1): 1}},\n",
       " (4, 2): {(0, 1): {(4, 3): 1},\n",
       "  (0, -1): {(4, 1): 1},\n",
       "  (1, 0): {(5, 2): 1},\n",
       "  (-1, 0): {(3, 2): 1}},\n",
       " (4, 3): {(0, 1): {(4, 4): 1},\n",
       "  (0, -1): {(4, 2): 1},\n",
       "  (1, 0): {(5, 3): 1},\n",
       "  (-1, 0): {(3, 3): 1}},\n",
       " (4, 4): {(0, 1): {(4, 4): 1},\n",
       "  (0, -1): {(4, 3): 1},\n",
       "  (1, 0): {(5, 4): 1},\n",
       "  (-1, 0): {(3, 4): 1}},\n",
       " (5, 1): {(0, 1): {(5, 2): 1},\n",
       "  (0, -1): {(5, 1): 1},\n",
       "  (1, 0): {(5, 1): 1},\n",
       "  (-1, 0): {(4, 1): 1}},\n",
       " (5, 2): {(0, 1): {(5, 3): 1},\n",
       "  (0, -1): {(5, 1): 1},\n",
       "  (1, 0): {(5, 2): 1},\n",
       "  (-1, 0): {(4, 2): 1}},\n",
       " (5, 3): {(0, 1): {(5, 4): 1},\n",
       "  (0, -1): {(5, 2): 1},\n",
       "  (1, 0): {(5, 3): 1},\n",
       "  (-1, 0): {(4, 3): 1}},\n",
       " (5, 4): {(0, 1): {(5, 5): 1},\n",
       "  (0, -1): {(5, 3): 1},\n",
       "  (1, 0): {(5, 4): 1},\n",
       "  (-1, 0): {(4, 4): 1}},\n",
       " (5, 5): {(0, 1): {(5, 5): 1},\n",
       "  (0, -1): {(5, 4): 1},\n",
       "  (1, 0): {(5, 5): 1},\n",
       "  (-1, 0): {(5, 5): 1}}}"
      ]
     },
     "execution_count": 8,
     "metadata": {},
     "output_type": "execute_result"
    }
   ],
   "source": [
    "transitionTable"
   ]
  },
  {
   "cell_type": "markdown",
   "metadata": {},
   "source": [
    "### 5. Subtask Space"
   ]
  },
  {
   "cell_type": "markdown",
   "metadata": {},
   "source": [
    "- define the set of ta = Merge(item1, item2) for all items - see figure 5 for salad recipe\n",
    "- to chop food, must be unchopped\n",
    "- to plate food, must be chopped\n",
    "- to deliver, must follow recipe"
   ]
  },
  {
   "cell_type": "markdown",
   "metadata": {},
   "source": [
    "The kitchens are built from counters that contain both __movable__ food and plates and __immovable__ stations (e.g. knife stations). The state is represented as a list of entities and their type, location, and status"
   ]
  },
  {
   "cell_type": "markdown",
   "metadata": {},
   "source": [
    "### Class `MergeAgentItem`"
   ]
  },
  {
   "cell_type": "code",
   "execution_count": 9,
   "metadata": {},
   "outputs": [],
   "source": [
    "from MergeAgentItem import MergeAgentItem"
   ]
  },
  {
   "cell_type": "code",
   "execution_count": 10,
   "metadata": {},
   "outputs": [],
   "source": [
    "recipe = [[\"Tomato.chopped.plated\"], [\"Lettuce.chopped.plated\"]]\n",
    "merge = MergeAgentItem(recipe)"
   ]
  },
  {
   "cell_type": "markdown",
   "metadata": {},
   "source": [
    "**Possible ways to deliver food**:\n",
    "\n",
    "1. [\"pick up food\", \"go to knife station\", \"pick up the plate\", \"go to knife station\", \"plate the food\", \"deliver\"]\n",
    "2. [\"pick up food\", \"pick up the plate\", \"go to knife station\", \"chop the food\", \"deliver\"]\n",
    "3. [\"pick up plate\", \"pick up the food\", \"go to knife station\", \"deliver\"]"
   ]
  },
  {
   "cell_type": "markdown",
   "metadata": {},
   "source": [
    "#### Example 1: \n",
    "\n",
    "Step 1: Deliver lettuce via method 2"
   ]
  },
  {
   "cell_type": "code",
   "execution_count": 11,
   "metadata": {},
   "outputs": [
    {
     "name": "stdout",
     "output_type": "stream",
     "text": [
      "x: Agent y: Lettuce\n",
      "x: [] y: unchopped\n",
      "1.1 pick up the food\n",
      "x: Agent y: Counter\n",
      "x: Lettuce.unchopped y: []\n"
     ]
    }
   ],
   "source": [
    "S = createEnvironment(objects)\n",
    "x = (4,5); y = (6,5)\n",
    "merge(S, x, y)"
   ]
  },
  {
   "cell_type": "code",
   "execution_count": 12,
   "metadata": {},
   "outputs": [
    {
     "name": "stdout",
     "output_type": "stream",
     "text": [
      "x: Agent y: Counter\n",
      "x: Lettuce.unchopped y: []\n",
      "x: Agent y: Counter\n",
      "x: Lettuce.unchopped y: []\n"
     ]
    }
   ],
   "source": [
    "x = (4,5); y = (6,5)\n",
    "merge(S, x, y)"
   ]
  },
  {
   "cell_type": "code",
   "execution_count": 13,
   "metadata": {},
   "outputs": [
    {
     "name": "stdout",
     "output_type": "stream",
     "text": [
      "x: Agent y: Knife\n",
      "x: Lettuce.unchopped y: []\n",
      "2. chop the food\n",
      "x: Agent y: Knife\n",
      "x: [] y: ['Lettuce.chopped']\n"
     ]
    }
   ],
   "source": [
    "x = (4,5); y = (0, 4)\n",
    "merge(S, x, y)"
   ]
  },
  {
   "cell_type": "code",
   "execution_count": 14,
   "metadata": {},
   "outputs": [
    {
     "name": "stdout",
     "output_type": "stream",
     "text": [
      "x: Agent y: Knife\n",
      "x: [] y: []\n",
      "x: Agent y: Knife\n",
      "x: [] y: []\n"
     ]
    }
   ],
   "source": [
    "x = (4,5); y = (0, 5)\n",
    "merge(S, x, y)"
   ]
  },
  {
   "cell_type": "code",
   "execution_count": 15,
   "metadata": {},
   "outputs": [
    {
     "name": "stdout",
     "output_type": "stream",
     "text": [
      "x: Agent y: Knife\n",
      "x: [] y: ['Lettuce.chopped']\n",
      "x: Agent y: Knife\n",
      "x: [] y: ['Lettuce.chopped']\n"
     ]
    }
   ],
   "source": [
    "x = (4,5); y = (0, 4)\n",
    "merge(S, x, y)"
   ]
  },
  {
   "cell_type": "code",
   "execution_count": 16,
   "metadata": {},
   "outputs": [
    {
     "name": "stdout",
     "output_type": "stream",
     "text": [
      "x: Agent y: Plate\n",
      "x: [] y: []\n",
      "3. pick up the plate\n",
      "x: Agent y: Counter\n",
      "x: Plate y: []\n"
     ]
    }
   ],
   "source": [
    "x = (4,5); y = (6,1)\n",
    "merge(S, x, y)"
   ]
  },
  {
   "cell_type": "code",
   "execution_count": 17,
   "metadata": {},
   "outputs": [
    {
     "name": "stdout",
     "output_type": "stream",
     "text": [
      "x: Agent y: Goal\n",
      "x: Plate y: []\n",
      "x: Agent y: Goal\n",
      "x: Plate y: []\n"
     ]
    }
   ],
   "source": [
    "x = (4,5); y = (0, 3)\n",
    "merge(S, x, y)"
   ]
  },
  {
   "cell_type": "markdown",
   "metadata": {},
   "source": [
    "Step 2: deliver tomato using method 3"
   ]
  },
  {
   "cell_type": "code",
   "execution_count": 18,
   "metadata": {},
   "outputs": [
    {
     "name": "stdout",
     "output_type": "stream",
     "text": [
      "x: Agent y: Counter\n",
      "x: Plate y: []\n",
      "x: Agent y: Counter\n",
      "x: Plate y: []\n"
     ]
    }
   ],
   "source": [
    "x = (4,5); y = (6,0)\n",
    "merge(S, x, y)"
   ]
  },
  {
   "cell_type": "code",
   "execution_count": 19,
   "metadata": {},
   "outputs": [
    {
     "name": "stdout",
     "output_type": "stream",
     "text": [
      "x: Agent y: Counter\n",
      "x: Plate y: []\n",
      "x: Agent y: Counter\n",
      "x: Plate y: []\n"
     ]
    }
   ],
   "source": [
    "x = (4,5); y = (6,1)\n",
    "merge(S, x, y)"
   ]
  },
  {
   "cell_type": "code",
   "execution_count": 20,
   "metadata": {},
   "outputs": [
    {
     "name": "stdout",
     "output_type": "stream",
     "text": [
      "x: Agent y: Tomato\n",
      "x: Plate y: unchopped\n",
      "1.2 pick up the food and plate it\n",
      "x: Agent y: Counter\n",
      "x: Tomato.unchopped.plated y: []\n"
     ]
    }
   ],
   "source": [
    "x = (4,5); y = (5,6)\n",
    "merge(S, x, y)"
   ]
  },
  {
   "cell_type": "code",
   "execution_count": 21,
   "metadata": {},
   "outputs": [
    {
     "name": "stdout",
     "output_type": "stream",
     "text": [
      "x: Agent y: Goal\n",
      "x: Tomato.unchopped.plated y: []\n",
      "x: Agent y: Goal\n",
      "x: Tomato.unchopped.plated y: []\n"
     ]
    }
   ],
   "source": [
    "x = (4,5); y = (0, 3)\n",
    "merge(S, x, y)"
   ]
  },
  {
   "cell_type": "code",
   "execution_count": 22,
   "metadata": {},
   "outputs": [
    {
     "name": "stdout",
     "output_type": "stream",
     "text": [
      "x: Agent y: Knife\n",
      "x: Tomato.unchopped.plated y: []\n",
      "7. chop plated raw food\n",
      "7.1 out for delivery\n",
      "x: Agent y: Knife\n",
      "x: Tomato.chopped.plated.delivery y: []\n"
     ]
    }
   ],
   "source": [
    "x = (4,5); y = (0, 5)\n",
    "merge(S, x, y)"
   ]
  },
  {
   "cell_type": "code",
   "execution_count": 23,
   "metadata": {},
   "outputs": [
    {
     "name": "stdout",
     "output_type": "stream",
     "text": [
      "x: Agent y: Goal\n",
      "x: Tomato.chopped.plated.delivery y: []\n",
      "5. delivered the food\n",
      "delivered = 1\n",
      "x: Agent y: Goal\n",
      "x: [] y: ['Tomato.chopped.plated.delivery']\n"
     ]
    }
   ],
   "source": [
    "x = (4,5); y = (0, 3)\n",
    "merge(S, x, y)"
   ]
  },
  {
   "cell_type": "markdown",
   "metadata": {},
   "source": [
    "#### Example 2: delivery via method 1"
   ]
  },
  {
   "cell_type": "code",
   "execution_count": 24,
   "metadata": {},
   "outputs": [
    {
     "name": "stdout",
     "output_type": "stream",
     "text": [
      "x: Agent y: Tomato\n",
      "x: [] y: unchopped\n",
      "1.1 pick up the food\n",
      "x: Agent y: Counter\n",
      "x: Tomato.unchopped y: []\n"
     ]
    }
   ],
   "source": [
    "S = createEnvironment(objects)\n",
    "x = (4,5); y = (5,6)\n",
    "merge(S, x, y)"
   ]
  },
  {
   "cell_type": "code",
   "execution_count": 25,
   "metadata": {},
   "outputs": [
    {
     "name": "stdout",
     "output_type": "stream",
     "text": [
      "x: Agent y: Knife\n",
      "x: Tomato.unchopped y: []\n",
      "2. chop the food\n",
      "x: Agent y: Knife\n",
      "x: [] y: ['Tomato.chopped']\n"
     ]
    }
   ],
   "source": [
    "x = (4,5); y = (0,4)\n",
    "merge(S, x, y)"
   ]
  },
  {
   "cell_type": "code",
   "execution_count": 26,
   "metadata": {},
   "outputs": [
    {
     "name": "stdout",
     "output_type": "stream",
     "text": [
      "x: Agent y: Plate\n",
      "x: [] y: []\n",
      "3. pick up the plate\n",
      "x: Agent y: Counter\n",
      "x: Plate y: []\n"
     ]
    }
   ],
   "source": [
    "x = (4,5); y = (5,0)\n",
    "merge(S, x, y)"
   ]
  },
  {
   "cell_type": "code",
   "execution_count": 27,
   "metadata": {},
   "outputs": [
    {
     "name": "stdout",
     "output_type": "stream",
     "text": [
      "x: Agent y: Knife\n",
      "x: Plate y: ['Tomato.chopped']\n",
      "4. plate the food\n",
      "4.1 out for delivery\n",
      "x: Agent y: Knife\n",
      "x: Tomato.chopped.plated.delivery y: []\n"
     ]
    }
   ],
   "source": [
    "x = (4,5); y = (0,4)\n",
    "merge(S, x, y)"
   ]
  },
  {
   "cell_type": "code",
   "execution_count": 28,
   "metadata": {},
   "outputs": [
    {
     "name": "stdout",
     "output_type": "stream",
     "text": [
      "x: Agent y: Goal\n",
      "x: Tomato.chopped.plated.delivery y: []\n",
      "5. delivered the food\n",
      "delivered = 2\n",
      "x: Agent y: Goal\n",
      "x: [] y: ['Tomato.chopped.plated.delivery']\n"
     ]
    }
   ],
   "source": [
    "x = (4,5); y = (0,3)\n",
    "merge(S, x, y)"
   ]
  },
  {
   "cell_type": "code",
   "execution_count": 29,
   "metadata": {},
   "outputs": [
    {
     "name": "stdout",
     "output_type": "stream",
     "text": [
      "x: Agent y: Lettuce\n",
      "x: [] y: unchopped\n",
      "1.1 pick up the food\n",
      "x: Agent y: Counter\n",
      "x: Lettuce.unchopped y: []\n"
     ]
    }
   ],
   "source": [
    "x = (4,5); y = (6,5)\n",
    "merge(S, x, y)"
   ]
  },
  {
   "cell_type": "code",
   "execution_count": 30,
   "metadata": {},
   "outputs": [
    {
     "name": "stdout",
     "output_type": "stream",
     "text": [
      "x: Agent y: Knife\n",
      "x: Lettuce.unchopped y: []\n",
      "2. chop the food\n",
      "x: Agent y: Knife\n",
      "x: [] y: ['Lettuce.chopped']\n"
     ]
    }
   ],
   "source": [
    "x = (4,5); y = (0,4)\n",
    "merge(S, x, y)"
   ]
  },
  {
   "cell_type": "code",
   "execution_count": 31,
   "metadata": {},
   "outputs": [
    {
     "name": "stdout",
     "output_type": "stream",
     "text": [
      "x: Agent y: Goal\n",
      "x: [] y: ['Tomato.chopped.plated.delivery']\n",
      "x: Agent y: Goal\n",
      "x: [] y: ['Tomato.chopped.plated.delivery']\n"
     ]
    }
   ],
   "source": [
    "x = (4,5); y = (0,3)\n",
    "merge(S, x, y)"
   ]
  },
  {
   "cell_type": "code",
   "execution_count": 32,
   "metadata": {},
   "outputs": [
    {
     "name": "stdout",
     "output_type": "stream",
     "text": [
      "x: Agent y: Plate\n",
      "x: [] y: []\n",
      "3. pick up the plate\n",
      "x: Agent y: Counter\n",
      "x: Plate y: []\n"
     ]
    }
   ],
   "source": [
    "x = (4,5); y = (6,1)\n",
    "merge(S, x, y)"
   ]
  },
  {
   "cell_type": "code",
   "execution_count": 33,
   "metadata": {},
   "outputs": [
    {
     "name": "stdout",
     "output_type": "stream",
     "text": [
      "x: Agent y: Knife\n",
      "x: Plate y: []\n",
      "x: Agent y: Knife\n",
      "x: Plate y: []\n"
     ]
    }
   ],
   "source": [
    "x = (4,5); y = (0, 5)\n",
    "merge(S, x, y)"
   ]
  },
  {
   "cell_type": "code",
   "execution_count": 34,
   "metadata": {},
   "outputs": [
    {
     "name": "stdout",
     "output_type": "stream",
     "text": [
      "x: Agent y: Knife\n",
      "x: Plate y: ['Lettuce.chopped']\n",
      "4. plate the food\n",
      "4.1 out for delivery\n",
      "x: Agent y: Knife\n",
      "x: Lettuce.chopped.plated.delivery y: []\n"
     ]
    }
   ],
   "source": [
    "x = (4,5); y = (0, 4)\n",
    "merge(S, x, y)"
   ]
  },
  {
   "cell_type": "code",
   "execution_count": 35,
   "metadata": {},
   "outputs": [
    {
     "name": "stdout",
     "output_type": "stream",
     "text": [
      "x: Agent y: Counter\n",
      "x: Lettuce.chopped.plated.delivery y: []\n",
      "x: Agent y: Counter\n",
      "x: Lettuce.chopped.plated.delivery y: []\n"
     ]
    }
   ],
   "source": [
    "x = (4,5); y = (0, 2)\n",
    "merge(S, x, y)"
   ]
  },
  {
   "cell_type": "code",
   "execution_count": 36,
   "metadata": {},
   "outputs": [
    {
     "name": "stdout",
     "output_type": "stream",
     "text": [
      "x: Agent y: Goal\n",
      "x: Lettuce.chopped.plated.delivery y: ['Tomato.chopped.plated.delivery']\n",
      "5. delivered the food\n",
      "delivered = 3\n",
      "finished all deliveries\n",
      "x: Agent y: Goal\n",
      "x: [] y: ['Tomato.chopped.plated.delivery', 'Lettuce.chopped.plated.delivery']\n"
     ]
    }
   ],
   "source": [
    "x = (4,5); y = (0, 3)\n",
    "merge(S, x, y)"
   ]
  },
  {
   "cell_type": "markdown",
   "metadata": {},
   "source": [
    "### Visualization of the environment"
   ]
  },
  {
   "cell_type": "code",
   "execution_count": 37,
   "metadata": {},
   "outputs": [],
   "source": [
    "S = createEnvironment(objects)"
   ]
  },
  {
   "cell_type": "code",
   "execution_count": 38,
   "metadata": {},
   "outputs": [],
   "source": [
    "def plotS(S, xmin = 0, xmax = 6+1, ymin = 0, ymax = 6+1):\n",
    "    '''Function to display the current environment'''\n",
    "    sns.set(style = \"ticks\")\n",
    "    plt.figure(figsize = (6,6), dpi=80)\n",
    "    plt.plot([xmin-0.5, xmax-0.5, xmax-0.5, xmin-0.5, xmin-0.5], # #1f77b4\n",
    "             [ymin-0.5, ymin-0.5, ymax-0.5, 7-0.5, ymax-0.5], color = \"lightgray\")\n",
    "    for i in range(1,xmax):\n",
    "        plt.plot([0-0.5, 7-0.5], [i-0.5, i-0.5], color = \"lightgray\")\n",
    "        plt.plot([i-0.5, i-0.5], [ymin-0.5, ymax-0.5], color = \"lightgray\")\n",
    "    plt.xlim([xmin-0.5,xmax-0.5]);plt.ylim([ymin-0.5,ymax-0.5])\n",
    "    colors = {\"Counter\":\"black\", \"Agent\":\"darkgreen\", \"Knife\":\"blue\", \"Plate\":\"red\", \n",
    "              \"Lettuce\":\"orange\", \"Tomato\":\"orange\", \"Goal\":\"gold\",  None:None}\n",
    "    for location in S.keys():\n",
    "        plt.text(location[0]-0.42, location[1], S[location][\"type\"], color = colors[S[location][\"type\"]])\n",
    "    plt.show()"
   ]
  },
  {
   "cell_type": "code",
   "execution_count": 39,
   "metadata": {},
   "outputs": [
    {
     "data": {
      "image/png": "[encoded data removed]",
      "text/plain": [
       "<Figure size 480x480 with 1 Axes>"
      ]
     },
     "metadata": {},
     "output_type": "display_data"
    }
   ],
   "source": [
    "plotS(S)"
   ]
  },
  {
   "cell_type": "markdown",
   "metadata": {},
   "source": [
    "## Part II: Bounded Real-Time Dynamic Programming (BRTDP)"
   ]
  },
  {
   "cell_type": "code",
   "execution_count": 40,
   "metadata": {},
   "outputs": [],
   "source": [
    "def BRTDP(s, ta, T, A):\n",
    "    '''\n",
    "    Inputs: s, ta, T, A\n",
    "    Outputs: V, Q, pi(policy)\n",
    "    '''\n",
    "    return 0"
   ]
  },
  {
   "cell_type": "markdown",
   "metadata": {},
   "source": [
    "## Part III: Level-K Hierarchy"
   ]
  },
  {
   "cell_type": "code",
   "execution_count": 41,
   "metadata": {},
   "outputs": [],
   "source": [
    "def levelK():\n",
    "    return 0"
   ]
  },
  {
   "cell_type": "markdown",
   "metadata": {},
   "source": [
    "## Part IV: Bayesian Delegation"
   ]
  },
  {
   "cell_type": "markdown",
   "metadata": {},
   "source": [
    "### Subtask space"
   ]
  },
  {
   "cell_type": "code",
   "execution_count": 42,
   "metadata": {},
   "outputs": [
    {
     "data": {
      "text/plain": [
       "{'Tomato.pick': 0.125,\n",
       " 'Tomato.chop': 0.125,\n",
       " 'Tomato.plate': 0.125,\n",
       " 'Tomato.deliver': 0.125,\n",
       " 'Lettuce.pick': 0.125,\n",
       " 'Lettuce.chop': 0.125,\n",
       " 'Lettuce.plate': 0.125,\n",
       " 'Lettuce.deliver': 0.125}"
      ]
     },
     "execution_count": 42,
     "metadata": {},
     "output_type": "execute_result"
    }
   ],
   "source": [
    "ta0 = {\"Tomato\":[\"pick\", \"chop\", \"plate\", \"deliver\"],\n",
    "      \"Lettuce\":[\"pick\", \"chop\", \"plate\", \"deliver\"]}\n",
    "ta = []\n",
    "for food, actions in ta0.items():\n",
    "    for action in actions:\n",
    "        ta.append(food + \".\" + action)\n",
    "ta = {task:1/len(ta) for task in ta}\n",
    "ta"
   ]
  },
  {
   "cell_type": "markdown",
   "metadata": {},
   "source": [
    "### Set of helper functions"
   ]
  },
  {
   "cell_type": "code",
   "execution_count": 43,
   "metadata": {},
   "outputs": [],
   "source": [
    "def getNextState(state, action):\n",
    "    '''\n",
    "    - location\n",
    "    - item status change\n",
    "    '''\n",
    "    #return(stateNext)\n",
    "    return 0"
   ]
  },
  {
   "cell_type": "code",
   "execution_count": 44,
   "metadata": {},
   "outputs": [],
   "source": [
    "def implementCooperativeJointPolicy():\n",
    "    pass"
   ]
  },
  {
   "cell_type": "code",
   "execution_count": 45,
   "metadata": {},
   "outputs": [],
   "source": [
    "def resetSubtaskPrior(state, getValue):\n",
    "    pass\n",
    "#return P(ta) as a PDF"
   ]
  },
  {
   "cell_type": "code",
   "execution_count": 46,
   "metadata": {},
   "outputs": [],
   "source": [
    "def getActionLikelihood():\n",
    "    pass # equation 2"
   ]
  },
  {
   "cell_type": "markdown",
   "metadata": {},
   "source": [
    "### Bayesian Delegation"
   ]
  },
  {
   "cell_type": "code",
   "execution_count": 47,
   "metadata": {},
   "outputs": [],
   "source": [
    "# main Bayesian Delegation shown in Appendix B\n"
   ]
  },
  {
   "cell_type": "markdown",
   "metadata": {},
   "source": [
    "## Appendix\n",
    "\n",
    "### A Notation"
   ]
  },
  {
   "cell_type": "markdown",
   "metadata": {},
   "source": [
    "- cursive T: list of subtasks\n",
    "- **ta**: delegation of subtasks\n",
    "- ta: one delegation from **ta**"
   ]
  },
  {
   "cell_type": "markdown",
   "metadata": {},
   "source": [
    "### B Pseudocode for Bayesian Delegation Algorithm"
   ]
  },
  {
   "cell_type": "markdown",
   "metadata": {},
   "source": [
    "![Pseudocode for Bayesian Delegation Algorithm](BDAlgorithm.png)"
   ]
  },
  {
   "cell_type": "markdown",
   "metadata": {},
   "source": [
    "&copy; Updated by Kaixin Wang, Week 6 Fall 2020"
   ]
  }
 ],
 "metadata": {
  "kernelspec": {
   "display_name": "Python 3",
   "language": "python",
   "name": "python3"
  },
  "language_info": {
   "codemirror_mode": {
    "name": "ipython",
    "version": 3
   },
   "file_extension": ".py",
   "mimetype": "text/x-python",
   "name": "python",
   "nbconvert_exporter": "python",
   "pygments_lexer": "ipython3",
   "version": "3.7.4"
  }
 },
 "nbformat": 4,
 "nbformat_minor": 2
}
